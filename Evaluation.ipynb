{
 "cells": [
  {
   "cell_type": "code",
   "execution_count": null,
   "id": "3fe5cb94",
   "metadata": {},
   "outputs": [],
   "source": [
    "import pandas as pd\n",
    "import numpy as np\n",
    "import pickle\n",
    "from sklearn.metrics import r2_score, mean_squared_error"
   ]
  },
  {
   "cell_type": "code",
   "execution_count": null,
   "id": "6f24ed25",
   "metadata": {},
   "outputs": [],
   "source": [
    "# load trained model and encoder\n",
    "model = pickle.load(open('house_pricing_model.sav', 'rb')) # selected model was Lasso\n",
    "ohe = pickle.load(open(\"one_hot_encoding.sav\", 'rb'))"
   ]
  },
  {
   "cell_type": "code",
   "execution_count": null,
   "id": "7bfd0703",
   "metadata": {
    "scrolled": true
   },
   "outputs": [],
   "source": [
    "# load data\n",
    "data = pd.read_csv('houses_test.csv')\n",
    "data.head()"
   ]
  },
  {
   "cell_type": "code",
   "execution_count": null,
   "id": "f2442056",
   "metadata": {},
   "outputs": [],
   "source": [
    "# set label and drop unnecessary columns\n",
    "Y = data['price']\n",
    "X = data.drop(['Unnamed: 0', \"price\", 'region', 'url'], axis=1)"
   ]
  },
  {
   "cell_type": "code",
   "execution_count": null,
   "id": "7b157b60",
   "metadata": {},
   "outputs": [],
   "source": [
    "# replace 'floor' column with the division of 'floor' and 'max_floor' and drop the 'max_floor' column\n",
    "X['floor'] = X['floor']/X[\"max_floor\"]\n",
    "X.drop('max_floor', axis=1, inplace=True)"
   ]
  },
  {
   "cell_type": "code",
   "execution_count": null,
   "id": "79cdb19b",
   "metadata": {},
   "outputs": [],
   "source": [
    "# transform categorical columns using one hot encoding\n",
    "transformed = ohe.transform(X[X.columns[[0, 1, 2, 6]]])\n",
    "columns = np.array(ohe.categories_, dtype='object')\n",
    "columns = np.concatenate((columns[0], columns[1], columns[2], columns[3]))\n",
    "transformed = pd.DataFrame(transformed, columns=columns)"
   ]
  },
  {
   "cell_type": "code",
   "execution_count": null,
   "id": "2841f664",
   "metadata": {},
   "outputs": [],
   "source": [
    "#concatenate numerical columns with transformed data\n",
    "X['index'] = range(0, len(transformed))\n",
    "X.set_index('index', inplace=True)\n",
    "X = pd.concat([X[['num_rooms', \"num_bathrooms\", \"area\", \"floor\", \"ceiling_height\"]], transformed], axis=1)\n",
    "X.head()"
   ]
  },
  {
   "cell_type": "code",
   "execution_count": null,
   "id": "71346700",
   "metadata": {},
   "outputs": [],
   "source": [
    "#calculate R2_score for predicted test data\n",
    "print(r2_score(Y, model.predict(X)))"
   ]
  },
  {
   "cell_type": "code",
   "execution_count": null,
   "id": "0d8041e1",
   "metadata": {},
   "outputs": [],
   "source": [
    "#Squared root of MSE\n",
    "mean_squared_error(Y, model.predict(X), squared=False)"
   ]
  }
 ],
 "metadata": {
  "kernelspec": {
   "display_name": "Python 3 (ipykernel)",
   "language": "python",
   "name": "python3"
  },
  "language_info": {
   "codemirror_mode": {
    "name": "ipython",
    "version": 3
   },
   "file_extension": ".py",
   "mimetype": "text/x-python",
   "name": "python",
   "nbconvert_exporter": "python",
   "pygments_lexer": "ipython3",
   "version": "3.9.12"
  }
 },
 "nbformat": 4,
 "nbformat_minor": 5
}
